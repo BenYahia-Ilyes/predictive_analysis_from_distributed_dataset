{
  "nbformat": 4,
  "nbformat_minor": 0,
  "metadata": {
    "kernelspec": {
      "name": "python3",
      "display_name": "Python 3"
    },
    "language_info": {
      "codemirror_mode": {
        "name": "ipython",
        "version": 3
      },
      "file_extension": ".py",
      "mimetype": "text/x-python",
      "name": "python",
      "nbconvert_exporter": "python",
      "pygments_lexer": "ipython3",
      "version": "3.6.9"
    },
    "colab": {
      "name": "deep_learning.ipynb",
      "provenance": [],
      "collapsed_sections": [
        "csuPdJmKbfiO",
        "XwLnRtHORaav",
        "ioAlAd5YRabJ",
        "BUUVsGYLRabp",
        "aRLUhbbhnpei",
        "pYzOeVfPD_wW",
        "SNkvtgA_eBvt"
      ],
      "machine_shape": "hm"
    },
    "accelerator": "TPU"
  },
  "cells": [
    {
      "cell_type": "code",
      "metadata": {
        "id": "jA9Dg_XhRreL",
        "colab_type": "code",
        "outputId": "c363f29f-2e77-424d-eb6e-ea6df79dbb52",
        "colab": {
          "base_uri": "https://localhost:8080/",
          "height": 120
        }
      },
      "source": [
        "from google.colab import drive\n",
        "drive.mount('/content/gdrive')"
      ],
      "execution_count": 1,
      "outputs": [
        {
          "output_type": "stream",
          "text": [
            "Go to this URL in a browser: https://accounts.google.com/o/oauth2/auth?client_id=947318989803-6bn6qk8qdgf4n4g3pfee6491hc0brc4i.apps.googleusercontent.com&redirect_uri=urn%3aietf%3awg%3aoauth%3a2.0%3aoob&response_type=code&scope=email%20https%3a%2f%2fwww.googleapis.com%2fauth%2fdocs.test%20https%3a%2f%2fwww.googleapis.com%2fauth%2fdrive%20https%3a%2f%2fwww.googleapis.com%2fauth%2fdrive.photos.readonly%20https%3a%2f%2fwww.googleapis.com%2fauth%2fpeopleapi.readonly\n",
            "\n",
            "Enter your authorization code:\n",
            "··········\n",
            "Mounted at /content/gdrive\n"
          ],
          "name": "stdout"
        }
      ]
    },
    {
      "cell_type": "code",
      "metadata": {
        "id": "kLRgcuc-Rs_T",
        "colab_type": "code",
        "outputId": "38be4d62-a32d-4813-d208-144b24ed7e2e",
        "colab": {
          "base_uri": "https://localhost:8080/",
          "height": 33
        }
      },
      "source": [
        "!ls "
      ],
      "execution_count": 2,
      "outputs": [
        {
          "output_type": "stream",
          "text": [
            "gdrive\tsample_data\n"
          ],
          "name": "stdout"
        }
      ]
    },
    {
      "cell_type": "code",
      "metadata": {
        "id": "Ga93Yt1wYDXq",
        "colab_type": "code",
        "colab": {}
      },
      "source": [
        "\n",
        "import os\n",
        "os.chdir('gdrive/My Drive/kaggle/energy/zip_files')  #change dir\n"
      ],
      "execution_count": 0,
      "outputs": []
    },
    {
      "cell_type": "markdown",
      "metadata": {
        "id": "csuPdJmKbfiO",
        "colab_type": "text"
      },
      "source": [
        "# import dataset from kaggle"
      ]
    },
    {
      "cell_type": "code",
      "metadata": {
        "id": "KqYcPHN9RtCF",
        "colab_type": "code",
        "colab": {}
      },
      "source": [
        "# Colab library to upload files to notebook\n",
        "from google.colab import files\n",
        "# Install Kaggle library\n",
        "!pip install -q kaggle\n",
        "# Upload the kaggle.json file\n",
        "uploaded = files.upload()\n",
        "!mkdir -p ~/.kaggle\n",
        "!cp kaggle.json ~/.kaggle/\n",
        "!chmod 600 ~/.kaggle/kaggle.json\n",
        "!ls ~/.kaggle\n",
        "!ls -l ~/.kaggle\n",
        "!cat ~/.kaggle/kaggle.json\n",
        "# Uploading the data \n"
      ],
      "execution_count": 0,
      "outputs": []
    },
    {
      "cell_type": "code",
      "metadata": {
        "id": "43wjAPlqkr8q",
        "colab_type": "code",
        "colab": {}
      },
      "source": [
        ""
      ],
      "execution_count": 0,
      "outputs": []
    },
    {
      "cell_type": "code",
      "metadata": {
        "id": "CNNtiq1FRtGH",
        "colab_type": "code",
        "outputId": "c8955e6f-5bcc-4460-ec87-fd3c171ae5fe",
        "colab": {
          "base_uri": "https://localhost:8080/",
          "height": 340
        }
      },
      "source": [
        "!kaggle competitions download -c ashrae-energy-prediction -p /content/gdrive/My\\ Drive/kaggle/energy"
      ],
      "execution_count": 0,
      "outputs": [
        {
          "output_type": "stream",
          "text": [
            "Warning: Looks like you're using an outdated API Version, please consider updating (server 1.5.6 / client 1.5.4)\n",
            "Downloading train.csv.zip to /content/gdrive/My Drive/kaggle/energy\n",
            " 98% 117M/120M [00:03<00:00, 32.2MB/s]\n",
            "100% 120M/120M [00:03<00:00, 35.1MB/s]\n",
            "Downloading test.csv.zip to /content/gdrive/My Drive/kaggle/energy\n",
            " 95% 158M/167M [00:02<00:00, 62.6MB/s]\n",
            "100% 167M/167M [00:02<00:00, 65.2MB/s]\n",
            "Downloading building_metadata.csv to /content/gdrive/My Drive/kaggle/energy\n",
            "  0% 0.00/44.5k [00:00<?, ?B/s]\n",
            "100% 44.5k/44.5k [00:00<00:00, 5.20MB/s]\n",
            "Downloading weather_test.csv.zip to /content/gdrive/My Drive/kaggle/energy\n",
            "  0% 0.00/2.53M [00:00<?, ?B/s]\n",
            "100% 2.53M/2.53M [00:00<00:00, 76.9MB/s]\n",
            "Downloading sample_submission.csv.zip to /content/gdrive/My Drive/kaggle/energy\n",
            " 89% 79.0M/88.4M [00:00<00:00, 97.0MB/s]\n",
            "100% 88.4M/88.4M [00:00<00:00, 95.7MB/s]\n",
            "Downloading weather_train.csv.zip to /content/gdrive/My Drive/kaggle/energy\n",
            "  0% 0.00/1.27M [00:00<?, ?B/s]\n",
            "100% 1.27M/1.27M [00:00<00:00, 78.1MB/s]\n"
          ],
          "name": "stdout"
        }
      ]
    },
    {
      "cell_type": "markdown",
      "metadata": {
        "id": "XwLnRtHORaav",
        "colab_type": "text"
      },
      "source": [
        "# train.csv"
      ]
    },
    {
      "cell_type": "code",
      "metadata": {
        "id": "-ugvmwo-Raam",
        "colab_type": "code",
        "colab": {}
      },
      "source": [
        "import numpy as np\n",
        "import pandas as pd"
      ],
      "execution_count": 0,
      "outputs": []
    },
    {
      "cell_type": "code",
      "metadata": {
        "id": "mca55NJERaas",
        "colab_type": "code",
        "colab": {}
      },
      "source": [
        "from matplotlib import pyplot as plt\n",
        "%matplotlib inline"
      ],
      "execution_count": 0,
      "outputs": []
    },
    {
      "cell_type": "code",
      "metadata": {
        "id": "UutyhkPdRaaw",
        "colab_type": "code",
        "outputId": "9b24ba3d-3271-45b9-b575-cb01ee625786",
        "colab": {
          "base_uri": "https://localhost:8080/",
          "height": 33
        }
      },
      "source": [
        "main = pd.read_csv ('train.csv.zip', compression='zip')\n",
        "main.shape"
      ],
      "execution_count": 0,
      "outputs": [
        {
          "output_type": "execute_result",
          "data": {
            "text/plain": [
              "(20216100, 4)"
            ]
          },
          "metadata": {
            "tags": []
          },
          "execution_count": 7
        }
      ]
    },
    {
      "cell_type": "code",
      "metadata": {
        "id": "B2El6Is4RabG",
        "colab_type": "code",
        "colab": {}
      },
      "source": [
        ""
      ],
      "execution_count": 0,
      "outputs": []
    },
    {
      "cell_type": "markdown",
      "metadata": {
        "id": "ioAlAd5YRabJ",
        "colab_type": "text"
      },
      "source": [
        "# building_metadata.csv"
      ]
    },
    {
      "cell_type": "code",
      "metadata": {
        "id": "fFWT0aI_a2Yp",
        "colab_type": "code",
        "outputId": "a59801a9-d859-4def-cfa6-1dffd313ab60",
        "colab": {
          "base_uri": "https://localhost:8080/",
          "height": 67
        }
      },
      "source": [
        "!ls"
      ],
      "execution_count": 0,
      "outputs": [
        {
          "output_type": "stream",
          "text": [
            "building_metadata.csv\t   test.csv.zip       weather_test.csv.zip\n",
            "model.h5\t\t   train.csv.zip      weather_train.csv.zip\n",
            "sample_submission.csv.zip  train_test.pickle\n"
          ],
          "name": "stdout"
        }
      ]
    },
    {
      "cell_type": "code",
      "metadata": {
        "id": "7Nmds1HuRabK",
        "colab_type": "code",
        "colab": {}
      },
      "source": [
        "buildings = pd.read_csv ('building_metadata.csv' )"
      ],
      "execution_count": 0,
      "outputs": []
    },
    {
      "cell_type": "code",
      "metadata": {
        "id": "kIANHekGRabN",
        "colab_type": "code",
        "outputId": "b391176a-ee13-4e20-fcaa-eae16e287023",
        "colab": {
          "base_uri": "https://localhost:8080/",
          "height": 196
        }
      },
      "source": [
        "buildings.tail()"
      ],
      "execution_count": 0,
      "outputs": [
        {
          "output_type": "execute_result",
          "data": {
            "text/html": [
              "<div>\n",
              "<style scoped>\n",
              "    .dataframe tbody tr th:only-of-type {\n",
              "        vertical-align: middle;\n",
              "    }\n",
              "\n",
              "    .dataframe tbody tr th {\n",
              "        vertical-align: top;\n",
              "    }\n",
              "\n",
              "    .dataframe thead th {\n",
              "        text-align: right;\n",
              "    }\n",
              "</style>\n",
              "<table border=\"1\" class=\"dataframe\">\n",
              "  <thead>\n",
              "    <tr style=\"text-align: right;\">\n",
              "      <th></th>\n",
              "      <th>site_id</th>\n",
              "      <th>building_id</th>\n",
              "      <th>primary_use</th>\n",
              "      <th>square_feet</th>\n",
              "      <th>year_built</th>\n",
              "      <th>floor_count</th>\n",
              "    </tr>\n",
              "  </thead>\n",
              "  <tbody>\n",
              "    <tr>\n",
              "      <th>1444</th>\n",
              "      <td>15</td>\n",
              "      <td>1444</td>\n",
              "      <td>Entertainment/public assembly</td>\n",
              "      <td>19619</td>\n",
              "      <td>1914.0</td>\n",
              "      <td>NaN</td>\n",
              "    </tr>\n",
              "    <tr>\n",
              "      <th>1445</th>\n",
              "      <td>15</td>\n",
              "      <td>1445</td>\n",
              "      <td>Education</td>\n",
              "      <td>4298</td>\n",
              "      <td>NaN</td>\n",
              "      <td>NaN</td>\n",
              "    </tr>\n",
              "    <tr>\n",
              "      <th>1446</th>\n",
              "      <td>15</td>\n",
              "      <td>1446</td>\n",
              "      <td>Entertainment/public assembly</td>\n",
              "      <td>11265</td>\n",
              "      <td>1997.0</td>\n",
              "      <td>NaN</td>\n",
              "    </tr>\n",
              "    <tr>\n",
              "      <th>1447</th>\n",
              "      <td>15</td>\n",
              "      <td>1447</td>\n",
              "      <td>Lodging/residential</td>\n",
              "      <td>29775</td>\n",
              "      <td>2001.0</td>\n",
              "      <td>NaN</td>\n",
              "    </tr>\n",
              "    <tr>\n",
              "      <th>1448</th>\n",
              "      <td>15</td>\n",
              "      <td>1448</td>\n",
              "      <td>Office</td>\n",
              "      <td>92271</td>\n",
              "      <td>2001.0</td>\n",
              "      <td>NaN</td>\n",
              "    </tr>\n",
              "  </tbody>\n",
              "</table>\n",
              "</div>"
            ],
            "text/plain": [
              "      site_id  building_id  ... year_built  floor_count\n",
              "1444       15         1444  ...     1914.0          NaN\n",
              "1445       15         1445  ...        NaN          NaN\n",
              "1446       15         1446  ...     1997.0          NaN\n",
              "1447       15         1447  ...     2001.0          NaN\n",
              "1448       15         1448  ...     2001.0          NaN\n",
              "\n",
              "[5 rows x 6 columns]"
            ]
          },
          "metadata": {
            "tags": []
          },
          "execution_count": 9
        }
      ]
    },
    {
      "cell_type": "code",
      "metadata": {
        "id": "xLgXEh8RRabQ",
        "colab_type": "code",
        "outputId": "d2f03ade-166d-435b-af1d-a50d76bff01a",
        "colab": {
          "base_uri": "https://localhost:8080/",
          "height": 33
        }
      },
      "source": [
        "buildings.site_id.nunique()"
      ],
      "execution_count": 0,
      "outputs": [
        {
          "output_type": "execute_result",
          "data": {
            "text/plain": [
              "16"
            ]
          },
          "metadata": {
            "tags": []
          },
          "execution_count": 10
        }
      ]
    },
    {
      "cell_type": "code",
      "metadata": {
        "id": "G-hYD-OVRabT",
        "colab_type": "code",
        "colab": {}
      },
      "source": [
        "buildings = buildings.drop(columns=['year_built','floor_count'], axis=1)\n"
      ],
      "execution_count": 0,
      "outputs": []
    },
    {
      "cell_type": "code",
      "metadata": {
        "id": "09AnXSd5dO_p",
        "colab_type": "code",
        "outputId": "4ac8658b-b96d-48c7-faa8-3b0aa26724ea",
        "colab": {
          "base_uri": "https://localhost:8080/",
          "height": 301
        }
      },
      "source": [
        "buildings.primary_use.value_counts()"
      ],
      "execution_count": 0,
      "outputs": [
        {
          "output_type": "execute_result",
          "data": {
            "text/plain": [
              "Education                        549\n",
              "Office                           279\n",
              "Entertainment/public assembly    184\n",
              "Public services                  156\n",
              "Lodging/residential              147\n",
              "Other                             25\n",
              "Healthcare                        23\n",
              "Parking                           22\n",
              "Warehouse/storage                 13\n",
              "Manufacturing/industrial          12\n",
              "Retail                            11\n",
              "Services                          10\n",
              "Technology/science                 6\n",
              "Food sales and service             5\n",
              "Utility                            4\n",
              "Religious worship                  3\n",
              "Name: primary_use, dtype: int64"
            ]
          },
          "metadata": {
            "tags": []
          },
          "execution_count": 12
        }
      ]
    },
    {
      "cell_type": "code",
      "metadata": {
        "id": "rvhyxN1rlNW0",
        "colab_type": "code",
        "colab": {}
      },
      "source": [
        "l=[\"Religious worship\",\"Utility\",\"Food sales and service\",\"Technology/science\",\"Services\",\"Retail\",\"Manufacturing/industrial\",\"Warehouse/storage\",\"Parking\",\"Healthcare\",\"Other\"]"
      ],
      "execution_count": 0,
      "outputs": []
    },
    {
      "cell_type": "code",
      "metadata": {
        "id": "aQDaxG1Vk-m5",
        "colab_type": "code",
        "colab": {}
      },
      "source": [
        "buildings.loc[buildings.primary_use.isin(l),'primary_use'] = 'others'"
      ],
      "execution_count": 0,
      "outputs": []
    },
    {
      "cell_type": "code",
      "metadata": {
        "id": "leoc6z85RabX",
        "colab_type": "code",
        "colab": {}
      },
      "source": [
        "buildings[\"primary_use\"] = buildings[\"primary_use\"].astype('category')\n",
        "buildings[\"primary_use\"] = buildings[\"primary_use\"].cat.codes"
      ],
      "execution_count": 0,
      "outputs": []
    },
    {
      "cell_type": "code",
      "metadata": {
        "id": "kzMlFZagRaba",
        "colab_type": "code",
        "colab": {}
      },
      "source": [
        "buildings['primary_use'] = buildings.primary_use.astype(\"int64\")\n"
      ],
      "execution_count": 0,
      "outputs": []
    },
    {
      "cell_type": "code",
      "metadata": {
        "id": "nfhl-WpURabd",
        "colab_type": "code",
        "outputId": "b0226fe7-4488-4678-9ef2-18bd13f1f2de",
        "colab": {
          "base_uri": "https://localhost:8080/",
          "height": 167
        }
      },
      "source": [
        "buildings.info()"
      ],
      "execution_count": 0,
      "outputs": [
        {
          "output_type": "stream",
          "text": [
            "<class 'pandas.core.frame.DataFrame'>\n",
            "RangeIndex: 1449 entries, 0 to 1448\n",
            "Data columns (total 4 columns):\n",
            "site_id        1449 non-null int64\n",
            "building_id    1449 non-null int64\n",
            "primary_use    1449 non-null int64\n",
            "square_feet    1449 non-null int64\n",
            "dtypes: int64(4)\n",
            "memory usage: 45.4 KB\n"
          ],
          "name": "stdout"
        }
      ]
    },
    {
      "cell_type": "code",
      "metadata": {
        "id": "5qdCFQNmRabf",
        "colab_type": "code",
        "colab": {}
      },
      "source": [
        ""
      ],
      "execution_count": 0,
      "outputs": []
    },
    {
      "cell_type": "code",
      "metadata": {
        "id": "dxO-ogUIRabi",
        "colab_type": "code",
        "colab": {}
      },
      "source": [
        ""
      ],
      "execution_count": 0,
      "outputs": []
    },
    {
      "cell_type": "code",
      "metadata": {
        "id": "ld1bry5PRabl",
        "colab_type": "code",
        "colab": {}
      },
      "source": [
        ""
      ],
      "execution_count": 0,
      "outputs": []
    },
    {
      "cell_type": "markdown",
      "metadata": {
        "id": "BUUVsGYLRabp",
        "colab_type": "text"
      },
      "source": [
        "# weather_train.csv"
      ]
    },
    {
      "cell_type": "code",
      "metadata": {
        "id": "-Y0NNgEbRabr",
        "colab_type": "code",
        "outputId": "522ca065-f9e9-48da-d6b7-9a24fdde93fb",
        "colab": {
          "base_uri": "https://localhost:8080/",
          "height": 33
        }
      },
      "source": [
        "weather=pd.read_csv('weather_train.csv.zip', compression='zip')\n",
        "weather.shape"
      ],
      "execution_count": 0,
      "outputs": [
        {
          "output_type": "execute_result",
          "data": {
            "text/plain": [
              "(139773, 9)"
            ]
          },
          "metadata": {
            "tags": []
          },
          "execution_count": 57
        }
      ]
    },
    {
      "cell_type": "code",
      "metadata": {
        "id": "83oukDo-Rabv",
        "colab_type": "code",
        "outputId": "35c9d0d4-9398-404e-c462-fd89484e3e0f",
        "colab": {
          "base_uri": "https://localhost:8080/",
          "height": 196
        }
      },
      "source": [
        "weather.head()"
      ],
      "execution_count": 0,
      "outputs": [
        {
          "output_type": "execute_result",
          "data": {
            "text/html": [
              "<div>\n",
              "<style scoped>\n",
              "    .dataframe tbody tr th:only-of-type {\n",
              "        vertical-align: middle;\n",
              "    }\n",
              "\n",
              "    .dataframe tbody tr th {\n",
              "        vertical-align: top;\n",
              "    }\n",
              "\n",
              "    .dataframe thead th {\n",
              "        text-align: right;\n",
              "    }\n",
              "</style>\n",
              "<table border=\"1\" class=\"dataframe\">\n",
              "  <thead>\n",
              "    <tr style=\"text-align: right;\">\n",
              "      <th></th>\n",
              "      <th>site_id</th>\n",
              "      <th>timestamp</th>\n",
              "      <th>air_temperature</th>\n",
              "      <th>cloud_coverage</th>\n",
              "      <th>dew_temperature</th>\n",
              "      <th>precip_depth_1_hr</th>\n",
              "      <th>sea_level_pressure</th>\n",
              "      <th>wind_direction</th>\n",
              "      <th>wind_speed</th>\n",
              "    </tr>\n",
              "  </thead>\n",
              "  <tbody>\n",
              "    <tr>\n",
              "      <th>0</th>\n",
              "      <td>0</td>\n",
              "      <td>2016-01-01 00:00:00</td>\n",
              "      <td>25.0</td>\n",
              "      <td>6.0</td>\n",
              "      <td>20.0</td>\n",
              "      <td>NaN</td>\n",
              "      <td>1019.7</td>\n",
              "      <td>0.0</td>\n",
              "      <td>0.0</td>\n",
              "    </tr>\n",
              "    <tr>\n",
              "      <th>1</th>\n",
              "      <td>0</td>\n",
              "      <td>2016-01-01 01:00:00</td>\n",
              "      <td>24.4</td>\n",
              "      <td>NaN</td>\n",
              "      <td>21.1</td>\n",
              "      <td>-1.0</td>\n",
              "      <td>1020.2</td>\n",
              "      <td>70.0</td>\n",
              "      <td>1.5</td>\n",
              "    </tr>\n",
              "    <tr>\n",
              "      <th>2</th>\n",
              "      <td>0</td>\n",
              "      <td>2016-01-01 02:00:00</td>\n",
              "      <td>22.8</td>\n",
              "      <td>2.0</td>\n",
              "      <td>21.1</td>\n",
              "      <td>0.0</td>\n",
              "      <td>1020.2</td>\n",
              "      <td>0.0</td>\n",
              "      <td>0.0</td>\n",
              "    </tr>\n",
              "    <tr>\n",
              "      <th>3</th>\n",
              "      <td>0</td>\n",
              "      <td>2016-01-01 03:00:00</td>\n",
              "      <td>21.1</td>\n",
              "      <td>2.0</td>\n",
              "      <td>20.6</td>\n",
              "      <td>0.0</td>\n",
              "      <td>1020.1</td>\n",
              "      <td>0.0</td>\n",
              "      <td>0.0</td>\n",
              "    </tr>\n",
              "    <tr>\n",
              "      <th>4</th>\n",
              "      <td>0</td>\n",
              "      <td>2016-01-01 04:00:00</td>\n",
              "      <td>20.0</td>\n",
              "      <td>2.0</td>\n",
              "      <td>20.0</td>\n",
              "      <td>-1.0</td>\n",
              "      <td>1020.0</td>\n",
              "      <td>250.0</td>\n",
              "      <td>2.6</td>\n",
              "    </tr>\n",
              "  </tbody>\n",
              "</table>\n",
              "</div>"
            ],
            "text/plain": [
              "   site_id            timestamp  ...  wind_direction  wind_speed\n",
              "0        0  2016-01-01 00:00:00  ...             0.0         0.0\n",
              "1        0  2016-01-01 01:00:00  ...            70.0         1.5\n",
              "2        0  2016-01-01 02:00:00  ...             0.0         0.0\n",
              "3        0  2016-01-01 03:00:00  ...             0.0         0.0\n",
              "4        0  2016-01-01 04:00:00  ...           250.0         2.6\n",
              "\n",
              "[5 rows x 9 columns]"
            ]
          },
          "metadata": {
            "tags": []
          },
          "execution_count": 58
        }
      ]
    },
    {
      "cell_type": "code",
      "metadata": {
        "id": "Uh2vwXmYRab3",
        "colab_type": "code",
        "outputId": "f3767a8e-15f4-470c-f733-fbae1292f196",
        "colab": {
          "base_uri": "https://localhost:8080/",
          "height": 251
        }
      },
      "source": [
        "weather.info()"
      ],
      "execution_count": 0,
      "outputs": [
        {
          "output_type": "stream",
          "text": [
            "<class 'pandas.core.frame.DataFrame'>\n",
            "RangeIndex: 139773 entries, 0 to 139772\n",
            "Data columns (total 9 columns):\n",
            "site_id               139773 non-null int64\n",
            "timestamp             139773 non-null object\n",
            "air_temperature       139718 non-null float64\n",
            "cloud_coverage        70600 non-null float64\n",
            "dew_temperature       139660 non-null float64\n",
            "precip_depth_1_hr     89484 non-null float64\n",
            "sea_level_pressure    129155 non-null float64\n",
            "wind_direction        133505 non-null float64\n",
            "wind_speed            139469 non-null float64\n",
            "dtypes: float64(7), int64(1), object(1)\n",
            "memory usage: 9.6+ MB\n"
          ],
          "name": "stdout"
        }
      ]
    },
    {
      "cell_type": "code",
      "metadata": {
        "id": "OijI4-pBRab6",
        "colab_type": "code",
        "outputId": "81163253-fc01-4f2b-e3f3-5eed34cabf05",
        "colab": {
          "base_uri": "https://localhost:8080/",
          "height": 184
        }
      },
      "source": [
        "weather.isnull().sum()"
      ],
      "execution_count": 0,
      "outputs": [
        {
          "output_type": "execute_result",
          "data": {
            "text/plain": [
              "site_id                   0\n",
              "timestamp                 0\n",
              "air_temperature          55\n",
              "cloud_coverage        69173\n",
              "dew_temperature         113\n",
              "precip_depth_1_hr     50289\n",
              "sea_level_pressure    10618\n",
              "wind_direction         6268\n",
              "wind_speed              304\n",
              "dtype: int64"
            ]
          },
          "metadata": {
            "tags": []
          },
          "execution_count": 60
        }
      ]
    },
    {
      "cell_type": "code",
      "metadata": {
        "id": "W0L2KbVCrwDF",
        "colab_type": "code",
        "colab": {}
      },
      "source": [
        ""
      ],
      "execution_count": 0,
      "outputs": []
    },
    {
      "cell_type": "code",
      "metadata": {
        "id": "tgl1Y2igRab8",
        "colab_type": "code",
        "colab": {}
      },
      "source": [
        "weather = weather.drop(columns=['precip_depth_1_hr','wind_direction','sea_level_pressure','cloud_coverage'], axis=1)\n"
      ],
      "execution_count": 0,
      "outputs": []
    },
    {
      "cell_type": "code",
      "metadata": {
        "id": "rfuYBZXLnGKT",
        "colab_type": "code",
        "colab": {}
      },
      "source": [
        "weather['wind_speed'].fillna(weather['wind_speed'].mean(), inplace=True)\n",
        "weather['air_temperature'].fillna(weather['air_temperature'].mean(), inplace=True)\n",
        "weather['dew_temperature'].fillna(weather['dew_temperature'].mean(), inplace=True)\n"
      ],
      "execution_count": 0,
      "outputs": []
    },
    {
      "cell_type": "markdown",
      "metadata": {
        "id": "aRLUhbbhnpei",
        "colab_type": "text"
      },
      "source": [
        "# Merge"
      ]
    },
    {
      "cell_type": "code",
      "metadata": {
        "id": "djAj5Twfnqk2",
        "colab_type": "code",
        "colab": {}
      },
      "source": [
        "data =  pd.merge(main,buildings, on=['building_id'],sort=False)"
      ],
      "execution_count": 0,
      "outputs": []
    },
    {
      "cell_type": "code",
      "metadata": {
        "id": "atboh_oen2eG",
        "colab_type": "code",
        "colab": {}
      },
      "source": [
        "data=pd.merge(data, weather, on=['site_id','timestamp'],sort=False)\n"
      ],
      "execution_count": 0,
      "outputs": []
    },
    {
      "cell_type": "code",
      "metadata": {
        "id": "y_F9n93Sopwq",
        "colab_type": "code",
        "outputId": "5843b512-544c-4bee-8da4-4410f3511aee",
        "colab": {
          "base_uri": "https://localhost:8080/",
          "height": 196
        }
      },
      "source": [
        "data.head()"
      ],
      "execution_count": 0,
      "outputs": [
        {
          "output_type": "execute_result",
          "data": {
            "text/html": [
              "<div>\n",
              "<style scoped>\n",
              "    .dataframe tbody tr th:only-of-type {\n",
              "        vertical-align: middle;\n",
              "    }\n",
              "\n",
              "    .dataframe tbody tr th {\n",
              "        vertical-align: top;\n",
              "    }\n",
              "\n",
              "    .dataframe thead th {\n",
              "        text-align: right;\n",
              "    }\n",
              "</style>\n",
              "<table border=\"1\" class=\"dataframe\">\n",
              "  <thead>\n",
              "    <tr style=\"text-align: right;\">\n",
              "      <th></th>\n",
              "      <th>building_id</th>\n",
              "      <th>meter</th>\n",
              "      <th>timestamp</th>\n",
              "      <th>meter_reading</th>\n",
              "      <th>site_id</th>\n",
              "      <th>primary_use</th>\n",
              "      <th>square_feet</th>\n",
              "      <th>air_temperature</th>\n",
              "      <th>dew_temperature</th>\n",
              "      <th>wind_speed</th>\n",
              "    </tr>\n",
              "  </thead>\n",
              "  <tbody>\n",
              "    <tr>\n",
              "      <th>0</th>\n",
              "      <td>0</td>\n",
              "      <td>0</td>\n",
              "      <td>2016-01-01 00:00:00</td>\n",
              "      <td>0.0</td>\n",
              "      <td>0</td>\n",
              "      <td>0</td>\n",
              "      <td>7432</td>\n",
              "      <td>25.0</td>\n",
              "      <td>20.0</td>\n",
              "      <td>0.0</td>\n",
              "    </tr>\n",
              "    <tr>\n",
              "      <th>1</th>\n",
              "      <td>0</td>\n",
              "      <td>0</td>\n",
              "      <td>2016-01-01 01:00:00</td>\n",
              "      <td>0.0</td>\n",
              "      <td>0</td>\n",
              "      <td>0</td>\n",
              "      <td>7432</td>\n",
              "      <td>24.4</td>\n",
              "      <td>21.1</td>\n",
              "      <td>1.5</td>\n",
              "    </tr>\n",
              "    <tr>\n",
              "      <th>2</th>\n",
              "      <td>0</td>\n",
              "      <td>0</td>\n",
              "      <td>2016-01-01 02:00:00</td>\n",
              "      <td>0.0</td>\n",
              "      <td>0</td>\n",
              "      <td>0</td>\n",
              "      <td>7432</td>\n",
              "      <td>22.8</td>\n",
              "      <td>21.1</td>\n",
              "      <td>0.0</td>\n",
              "    </tr>\n",
              "    <tr>\n",
              "      <th>3</th>\n",
              "      <td>0</td>\n",
              "      <td>0</td>\n",
              "      <td>2016-01-01 03:00:00</td>\n",
              "      <td>0.0</td>\n",
              "      <td>0</td>\n",
              "      <td>0</td>\n",
              "      <td>7432</td>\n",
              "      <td>21.1</td>\n",
              "      <td>20.6</td>\n",
              "      <td>0.0</td>\n",
              "    </tr>\n",
              "    <tr>\n",
              "      <th>4</th>\n",
              "      <td>0</td>\n",
              "      <td>0</td>\n",
              "      <td>2016-01-01 04:00:00</td>\n",
              "      <td>0.0</td>\n",
              "      <td>0</td>\n",
              "      <td>0</td>\n",
              "      <td>7432</td>\n",
              "      <td>20.0</td>\n",
              "      <td>20.0</td>\n",
              "      <td>2.6</td>\n",
              "    </tr>\n",
              "  </tbody>\n",
              "</table>\n",
              "</div>"
            ],
            "text/plain": [
              "   building_id  meter  ... dew_temperature  wind_speed\n",
              "0            0      0  ...            20.0         0.0\n",
              "1            0      0  ...            21.1         1.5\n",
              "2            0      0  ...            21.1         0.0\n",
              "3            0      0  ...            20.6         0.0\n",
              "4            0      0  ...            20.0         2.6\n",
              "\n",
              "[5 rows x 10 columns]"
            ]
          },
          "metadata": {
            "tags": []
          },
          "execution_count": 76
        }
      ]
    },
    {
      "cell_type": "code",
      "metadata": {
        "id": "uJDGUvzm9p8u",
        "colab_type": "code",
        "colab": {}
      },
      "source": [
        "data[\"month\"] = data[\"timestamp\"].map(lambda row: row.split(\" \")[0].split(\"-\")[1])\n",
        "data[\"day\"] = data[\"timestamp\"].map(lambda row: row.split(\" \")[0].split(\"-\")[2])\n",
        "#data[\"time\"] = data[\"timestamp\"].map(lambda row: row.split(\" \")[1].split(\":\")[0])\n",
        "\n",
        "\n",
        "data['month'] = pd.to_numeric(data.month, errors='coerce')\n",
        "#data['time'] = pd.to_numeric(data.time, errors='coerce')\n",
        "data['day'] = pd.to_numeric(data.month, errors='coerce')\n"
      ],
      "execution_count": 0,
      "outputs": []
    },
    {
      "cell_type": "code",
      "metadata": {
        "id": "aKZlFSXY_tyJ",
        "colab_type": "code",
        "colab": {}
      },
      "source": [
        "\n",
        "data = data.drop(columns=[ 'timestamp','site_id'], axis=1)\n"
      ],
      "execution_count": 0,
      "outputs": []
    },
    {
      "cell_type": "code",
      "metadata": {
        "id": "0oH2LXoXAFba",
        "colab_type": "code",
        "colab": {}
      },
      "source": [
        ""
      ],
      "execution_count": 0,
      "outputs": []
    },
    {
      "cell_type": "markdown",
      "metadata": {
        "id": "pYzOeVfPD_wW",
        "colab_type": "text"
      },
      "source": [
        "# Split Train_Test"
      ]
    },
    {
      "cell_type": "code",
      "metadata": {
        "id": "UYPS7UAcEjyF",
        "colab_type": "code",
        "colab": {}
      },
      "source": [
        "from sklearn.model_selection import train_test_split"
      ],
      "execution_count": 0,
      "outputs": []
    },
    {
      "cell_type": "code",
      "metadata": {
        "id": "mIwLCR6YEChs",
        "colab_type": "code",
        "colab": {}
      },
      "source": [
        "train_df,test_df = train_test_split(data, test_size=0.2, random_state=45)\n"
      ],
      "execution_count": 0,
      "outputs": []
    },
    {
      "cell_type": "code",
      "metadata": {
        "id": "HF9EJHIXEZz1",
        "colab_type": "code",
        "outputId": "023acb3c-9bbc-4f75-f11b-16d89205266e",
        "colab": {
          "base_uri": "https://localhost:8080/",
          "height": 196
        }
      },
      "source": [
        "train_df.head()\n"
      ],
      "execution_count": 0,
      "outputs": [
        {
          "output_type": "execute_result",
          "data": {
            "text/html": [
              "<div>\n",
              "<style scoped>\n",
              "    .dataframe tbody tr th:only-of-type {\n",
              "        vertical-align: middle;\n",
              "    }\n",
              "\n",
              "    .dataframe tbody tr th {\n",
              "        vertical-align: top;\n",
              "    }\n",
              "\n",
              "    .dataframe thead th {\n",
              "        text-align: right;\n",
              "    }\n",
              "</style>\n",
              "<table border=\"1\" class=\"dataframe\">\n",
              "  <thead>\n",
              "    <tr style=\"text-align: right;\">\n",
              "      <th></th>\n",
              "      <th>building_id</th>\n",
              "      <th>meter</th>\n",
              "      <th>meter_reading</th>\n",
              "      <th>primary_use</th>\n",
              "      <th>square_feet</th>\n",
              "      <th>air_temperature</th>\n",
              "      <th>dew_temperature</th>\n",
              "      <th>wind_speed</th>\n",
              "      <th>month</th>\n",
              "      <th>day</th>\n",
              "    </tr>\n",
              "  </thead>\n",
              "  <tbody>\n",
              "    <tr>\n",
              "      <th>10596157</th>\n",
              "      <td>922</td>\n",
              "      <td>0</td>\n",
              "      <td>148.000</td>\n",
              "      <td>0</td>\n",
              "      <td>147205</td>\n",
              "      <td>31.1</td>\n",
              "      <td>22.8</td>\n",
              "      <td>3.6</td>\n",
              "      <td>4</td>\n",
              "      <td>4</td>\n",
              "    </tr>\n",
              "    <tr>\n",
              "      <th>5498999</th>\n",
              "      <td>449</td>\n",
              "      <td>0</td>\n",
              "      <td>44.200</td>\n",
              "      <td>2</td>\n",
              "      <td>18340</td>\n",
              "      <td>7.8</td>\n",
              "      <td>6.7</td>\n",
              "      <td>4.6</td>\n",
              "      <td>12</td>\n",
              "      <td>12</td>\n",
              "    </tr>\n",
              "    <tr>\n",
              "      <th>4366511</th>\n",
              "      <td>318</td>\n",
              "      <td>0</td>\n",
              "      <td>245.790</td>\n",
              "      <td>3</td>\n",
              "      <td>105000</td>\n",
              "      <td>23.3</td>\n",
              "      <td>15.6</td>\n",
              "      <td>6.7</td>\n",
              "      <td>9</td>\n",
              "      <td>9</td>\n",
              "    </tr>\n",
              "    <tr>\n",
              "      <th>3482081</th>\n",
              "      <td>250</td>\n",
              "      <td>1</td>\n",
              "      <td>331.217</td>\n",
              "      <td>0</td>\n",
              "      <td>131710</td>\n",
              "      <td>25.6</td>\n",
              "      <td>10.0</td>\n",
              "      <td>2.6</td>\n",
              "      <td>10</td>\n",
              "      <td>10</td>\n",
              "    </tr>\n",
              "    <tr>\n",
              "      <th>1503341</th>\n",
              "      <td>144</td>\n",
              "      <td>0</td>\n",
              "      <td>56.625</td>\n",
              "      <td>3</td>\n",
              "      <td>57673</td>\n",
              "      <td>2.0</td>\n",
              "      <td>1.3</td>\n",
              "      <td>1.0</td>\n",
              "      <td>11</td>\n",
              "      <td>11</td>\n",
              "    </tr>\n",
              "  </tbody>\n",
              "</table>\n",
              "</div>"
            ],
            "text/plain": [
              "          building_id  meter  meter_reading  ...  wind_speed  month  day\n",
              "10596157          922      0        148.000  ...         3.6      4    4\n",
              "5498999           449      0         44.200  ...         4.6     12   12\n",
              "4366511           318      0        245.790  ...         6.7      9    9\n",
              "3482081           250      1        331.217  ...         2.6     10   10\n",
              "1503341           144      0         56.625  ...         1.0     11   11\n",
              "\n",
              "[5 rows x 10 columns]"
            ]
          },
          "metadata": {
            "tags": []
          },
          "execution_count": 83
        }
      ]
    },
    {
      "cell_type": "code",
      "metadata": {
        "id": "lBe5cklXEnQD",
        "colab_type": "code",
        "colab": {}
      },
      "source": [
        "y_test = test_df['meter_reading']\n",
        "x_test = test_df[['meter', 'building_id', 'primary_use', 'month', 'day','air_temperature','dew_temperature', 'wind_speed','square_feet']]\n",
        "\n",
        "y_train = train_df['meter_reading']\n",
        "x_train = train_df[['meter', 'building_id', 'primary_use', 'month', 'day','air_temperature','dew_temperature', 'wind_speed','square_feet']]\n"
      ],
      "execution_count": 0,
      "outputs": []
    },
    {
      "cell_type": "code",
      "metadata": {
        "id": "ZvSH5hHeGA4X",
        "colab_type": "code",
        "outputId": "d0d7ad43-a162-4c85-bbe4-da653ab04e02",
        "colab": {
          "base_uri": "https://localhost:8080/",
          "height": 100
        }
      },
      "source": [
        "print(x_test.shape)\n",
        "print(y_test.shape)\n",
        "print(\"******************************\")\n",
        "print(x_train.shape)\n",
        "print(y_train.shape)"
      ],
      "execution_count": 0,
      "outputs": [
        {
          "output_type": "stream",
          "text": [
            "(4025121, 9)\n",
            "(4025121,)\n",
            "******************************\n",
            "(16100484, 9)\n",
            "(16100484,)\n"
          ],
          "name": "stdout"
        }
      ]
    },
    {
      "cell_type": "code",
      "metadata": {
        "id": "-xikWZJ_GSKz",
        "colab_type": "code",
        "outputId": "56bc0a95-640f-4c44-dba8-1e45f4d95241",
        "colab": {
          "base_uri": "https://localhost:8080/",
          "height": 196
        }
      },
      "source": [
        "x_train.head()"
      ],
      "execution_count": 0,
      "outputs": [
        {
          "output_type": "execute_result",
          "data": {
            "text/html": [
              "<div>\n",
              "<style scoped>\n",
              "    .dataframe tbody tr th:only-of-type {\n",
              "        vertical-align: middle;\n",
              "    }\n",
              "\n",
              "    .dataframe tbody tr th {\n",
              "        vertical-align: top;\n",
              "    }\n",
              "\n",
              "    .dataframe thead th {\n",
              "        text-align: right;\n",
              "    }\n",
              "</style>\n",
              "<table border=\"1\" class=\"dataframe\">\n",
              "  <thead>\n",
              "    <tr style=\"text-align: right;\">\n",
              "      <th></th>\n",
              "      <th>meter</th>\n",
              "      <th>building_id</th>\n",
              "      <th>primary_use</th>\n",
              "      <th>month</th>\n",
              "      <th>day</th>\n",
              "      <th>air_temperature</th>\n",
              "      <th>dew_temperature</th>\n",
              "      <th>wind_speed</th>\n",
              "      <th>square_feet</th>\n",
              "    </tr>\n",
              "  </thead>\n",
              "  <tbody>\n",
              "    <tr>\n",
              "      <th>9606115</th>\n",
              "      <td>0</td>\n",
              "      <td>835</td>\n",
              "      <td>1</td>\n",
              "      <td>12</td>\n",
              "      <td>12</td>\n",
              "      <td>13.9</td>\n",
              "      <td>11.1</td>\n",
              "      <td>4.1</td>\n",
              "      <td>17220</td>\n",
              "    </tr>\n",
              "    <tr>\n",
              "      <th>184779</th>\n",
              "      <td>1</td>\n",
              "      <td>78</td>\n",
              "      <td>0</td>\n",
              "      <td>3</td>\n",
              "      <td>3</td>\n",
              "      <td>22.2</td>\n",
              "      <td>16.1</td>\n",
              "      <td>4.1</td>\n",
              "      <td>76257</td>\n",
              "    </tr>\n",
              "    <tr>\n",
              "      <th>10846520</th>\n",
              "      <td>2</td>\n",
              "      <td>955</td>\n",
              "      <td>0</td>\n",
              "      <td>6</td>\n",
              "      <td>6</td>\n",
              "      <td>33.3</td>\n",
              "      <td>23.9</td>\n",
              "      <td>2.6</td>\n",
              "      <td>198488</td>\n",
              "    </tr>\n",
              "    <tr>\n",
              "      <th>14979167</th>\n",
              "      <td>1</td>\n",
              "      <td>1139</td>\n",
              "      <td>3</td>\n",
              "      <td>9</td>\n",
              "      <td>9</td>\n",
              "      <td>20.0</td>\n",
              "      <td>10.6</td>\n",
              "      <td>2.6</td>\n",
              "      <td>336650</td>\n",
              "    </tr>\n",
              "    <tr>\n",
              "      <th>1075753</th>\n",
              "      <td>1</td>\n",
              "      <td>97</td>\n",
              "      <td>2</td>\n",
              "      <td>12</td>\n",
              "      <td>12</td>\n",
              "      <td>17.8</td>\n",
              "      <td>6.7</td>\n",
              "      <td>0.0</td>\n",
              "      <td>187647</td>\n",
              "    </tr>\n",
              "  </tbody>\n",
              "</table>\n",
              "</div>"
            ],
            "text/plain": [
              "          meter  building_id  ...  wind_speed  square_feet\n",
              "9606115       0          835  ...         4.1        17220\n",
              "184779        1           78  ...         4.1        76257\n",
              "10846520      2          955  ...         2.6       198488\n",
              "14979167      1         1139  ...         2.6       336650\n",
              "1075753       1           97  ...         0.0       187647\n",
              "\n",
              "[5 rows x 9 columns]"
            ]
          },
          "metadata": {
            "tags": []
          },
          "execution_count": 155
        }
      ]
    },
    {
      "cell_type": "code",
      "metadata": {
        "id": "f0UL-PXTGYWS",
        "colab_type": "code",
        "outputId": "7d9b14db-0423-4a91-90ce-655f5081a54e",
        "colab": {
          "base_uri": "https://localhost:8080/",
          "height": 117
        }
      },
      "source": [
        "y_test.head()"
      ],
      "execution_count": 0,
      "outputs": [
        {
          "output_type": "execute_result",
          "data": {
            "text/plain": [
              "13172218     102.2740\n",
              "1594888      219.6000\n",
              "1974942      212.4530\n",
              "8695104     3682.6000\n",
              "18226576      94.0657\n",
              "Name: meter_reading, dtype: float64"
            ]
          },
          "metadata": {
            "tags": []
          },
          "execution_count": 88
        }
      ]
    },
    {
      "cell_type": "code",
      "metadata": {
        "id": "QYu6czybG_nW",
        "colab_type": "code",
        "colab": {}
      },
      "source": [
        "# store the clean data in a pickle file to be used later in the modeling phase\n",
        "\n",
        "import pickle\n",
        "with open('train_test.pickle', 'wb') as f:\n",
        "    pickle.dump([x_train, y_train, x_test,y_test], f)"
      ],
      "execution_count": 0,
      "outputs": []
    },
    {
      "cell_type": "markdown",
      "metadata": {
        "id": "6tjnn82MemZE",
        "colab_type": "text"
      },
      "source": [
        "# Run and evaluate Model"
      ]
    },
    {
      "cell_type": "code",
      "metadata": {
        "id": "pBb5KFgPt3V4",
        "colab_type": "code",
        "outputId": "73ddda86-3934-4888-e328-0a9c317e3fae",
        "colab": {
          "base_uri": "https://localhost:8080/",
          "height": 67
        }
      },
      "source": [
        "!ls"
      ],
      "execution_count": 0,
      "outputs": [
        {
          "output_type": "stream",
          "text": [
            "building_metadata.csv\t   test.csv.zip       weather_test.csv.zip\n",
            "model.h5\t\t   train.csv.zip      weather_train.csv.zip\n",
            "sample_submission.csv.zip  train_test.pickle\n"
          ],
          "name": "stdout"
        }
      ]
    },
    {
      "cell_type": "code",
      "metadata": {
        "id": "5xHXaq7AJedj",
        "colab_type": "code",
        "outputId": "55b72d7e-ffbd-42eb-8222-bf406a31fd98",
        "colab": {
          "base_uri": "https://localhost:8080/",
          "height": 33
        }
      },
      "source": [
        "import pickle\n",
        "with open('train_test.pickle', 'rb') as f:\n",
        "    [x_train,y_train, x_test,y_test] = pickle.load(f)\n",
        "x_train.shape,y_train.shape, x_test.shape,y_test.shape"
      ],
      "execution_count": 42,
      "outputs": [
        {
          "output_type": "execute_result",
          "data": {
            "text/plain": [
              "((16100484, 9), (16100484,), (4025121, 9), (4025121,))"
            ]
          },
          "metadata": {
            "tags": []
          },
          "execution_count": 42
        }
      ]
    },
    {
      "cell_type": "code",
      "metadata": {
        "colab_type": "code",
        "outputId": "9c7c8f87-fc5f-4491-a8e7-94c175a808b8",
        "id": "aYj6lUq0COqf",
        "colab": {
          "base_uri": "https://localhost:8080/",
          "height": 33
        }
      },
      "source": [
        "x_train.shape,y_train.shape, x_test.shape,y_test.shape"
      ],
      "execution_count": 0,
      "outputs": [
        {
          "output_type": "execute_result",
          "data": {
            "text/plain": [
              "((16100484, 9), (16100484,), (4025121, 9), (4025121,))"
            ]
          },
          "metadata": {
            "tags": []
          },
          "execution_count": 15
        }
      ]
    },
    {
      "cell_type": "code",
      "metadata": {
        "id": "r71-3eAKIk-C",
        "colab_type": "code",
        "outputId": "c25fb1e1-789b-4685-934b-3d19f0c8a5e0",
        "colab": {
          "base_uri": "https://localhost:8080/",
          "height": 33
        }
      },
      "source": [
        "from sklearn import preprocessing\n",
        "from keras import backend as K\n",
        "from keras.callbacks import ModelCheckpoint, EarlyStopping\n",
        "from keras.layers import Dense, LSTM, GRU, Dropout, BatchNormalization\n",
        "from keras.models import Sequential\n",
        "from keras.optimizers import RMSprop,Adam\n",
        "from keras import regularizers"
      ],
      "execution_count": 11,
      "outputs": [
        {
          "output_type": "stream",
          "text": [
            "Using TensorFlow backend.\n"
          ],
          "name": "stderr"
        }
      ]
    },
    {
      "cell_type": "code",
      "metadata": {
        "id": "-iZHvgLEA8t0",
        "colab_type": "code",
        "colab": {}
      },
      "source": [
        "def root_mean_squared_error(y_true, y_pred):\n",
        "  return K.sqrt(K.mean(K.square(y_pred - y_true)))"
      ],
      "execution_count": 0,
      "outputs": []
    },
    {
      "cell_type": "code",
      "metadata": {
        "id": "K1Nc2TlMJRy9",
        "colab_type": "code",
        "outputId": "30a91ed7-105b-4b5a-f5e7-a00643ed9522",
        "colab": {
          "base_uri": "https://localhost:8080/",
          "height": 221
        }
      },
      "source": [
        "\n",
        "model = Sequential()\n",
        "model.add(Dense(500, input_dim=9, activation= \"relu\"))\n",
        "model.add(Dropout(0.2))\n",
        "\n",
        "model.add(Dense(100, activation= \"relu\"))\n",
        "model.add(Dropout(0.2))\n",
        "\n",
        "model.add(Dense(50, activation= \"relu\"))\n",
        "model.add(Dense(1))"
      ],
      "execution_count": 13,
      "outputs": [
        {
          "output_type": "stream",
          "text": [
            "WARNING:tensorflow:From /usr/local/lib/python3.6/dist-packages/keras/backend/tensorflow_backend.py:66: The name tf.get_default_graph is deprecated. Please use tf.compat.v1.get_default_graph instead.\n",
            "\n",
            "WARNING:tensorflow:From /usr/local/lib/python3.6/dist-packages/keras/backend/tensorflow_backend.py:541: The name tf.placeholder is deprecated. Please use tf.compat.v1.placeholder instead.\n",
            "\n",
            "WARNING:tensorflow:From /usr/local/lib/python3.6/dist-packages/keras/backend/tensorflow_backend.py:4432: The name tf.random_uniform is deprecated. Please use tf.random.uniform instead.\n",
            "\n",
            "WARNING:tensorflow:From /usr/local/lib/python3.6/dist-packages/keras/backend/tensorflow_backend.py:148: The name tf.placeholder_with_default is deprecated. Please use tf.compat.v1.placeholder_with_default instead.\n",
            "\n",
            "WARNING:tensorflow:From /usr/local/lib/python3.6/dist-packages/keras/backend/tensorflow_backend.py:3733: calling dropout (from tensorflow.python.ops.nn_ops) with keep_prob is deprecated and will be removed in a future version.\n",
            "Instructions for updating:\n",
            "Please use `rate` instead of `keep_prob`. Rate should be set to `rate = 1 - keep_prob`.\n"
          ],
          "name": "stdout"
        }
      ]
    },
    {
      "cell_type": "code",
      "metadata": {
        "id": "PIu98crhR20z",
        "colab_type": "code",
        "colab": {}
      },
      "source": [
        ""
      ],
      "execution_count": 0,
      "outputs": []
    },
    {
      "cell_type": "code",
      "metadata": {
        "id": "eotq4dBNJbe1",
        "colab_type": "code",
        "colab": {
          "base_uri": "https://localhost:8080/",
          "height": 70
        },
        "outputId": "9bef1436-0453-4301-fc59-5a2b3e7eb8eb"
      },
      "source": [
        "#opt = Adam(lr=INIT_LR, decay=INIT_LR / EPOCHS)\n",
        "#from keras.optimizers import Adam\n",
        "\n",
        "def root_mean_squared_error(y_true, y_pred):\n",
        "  return K.sqrt(K.mean(K.square(y_pred - y_true)))\n",
        "  \n",
        "metrics=root_mean_squared_error\n",
        "model.compile(loss='mse', optimizer=\"rmsprop\" ,metrics=[metrics])\n"
      ],
      "execution_count": 14,
      "outputs": [
        {
          "output_type": "stream",
          "text": [
            "WARNING:tensorflow:From /usr/local/lib/python3.6/dist-packages/keras/optimizers.py:793: The name tf.train.Optimizer is deprecated. Please use tf.compat.v1.train.Optimizer instead.\n",
            "\n"
          ],
          "name": "stdout"
        }
      ]
    },
    {
      "cell_type": "code",
      "metadata": {
        "id": "_UrIzsIjBDa1",
        "colab_type": "code",
        "colab": {}
      },
      "source": [
        "y_train = np.log1p(y_train)\n"
      ],
      "execution_count": 0,
      "outputs": []
    },
    {
      "cell_type": "code",
      "metadata": {
        "id": "pDiPKM2aBOu8",
        "colab_type": "code",
        "colab": {}
      },
      "source": [
        "es = EarlyStopping(monitor='val_loss', min_delta=0.0001, patience=5, verbose=True, mode='auto')"
      ],
      "execution_count": 0,
      "outputs": []
    },
    {
      "cell_type": "code",
      "metadata": {
        "colab_type": "code",
        "outputId": "892df181-100a-4f27-8b8f-ed9ec7fac84f",
        "id": "j8Oml2aGTZRX",
        "colab": {
          "base_uri": "https://localhost:8080/",
          "height": 990
        }
      },
      "source": [
        "model.fit(x_train,y_train,epochs=30,batch_size=500,verbose=1,validation_data=(x_test,y_test),callbacks=[ es])\n"
      ],
      "execution_count": 0,
      "outputs": [
        {
          "output_type": "stream",
          "text": [
            "WARNING:tensorflow:From /usr/local/lib/python3.6/dist-packages/keras/backend/tensorflow_backend.py:1033: The name tf.assign_add is deprecated. Please use tf.compat.v1.assign_add instead.\n",
            "\n",
            "WARNING:tensorflow:From /usr/local/lib/python3.6/dist-packages/keras/backend/tensorflow_backend.py:1020: The name tf.assign is deprecated. Please use tf.compat.v1.assign instead.\n",
            "\n",
            "WARNING:tensorflow:From /usr/local/lib/python3.6/dist-packages/keras/backend/tensorflow_backend.py:3005: The name tf.Session is deprecated. Please use tf.compat.v1.Session instead.\n",
            "\n",
            "Train on 16100484 samples, validate on 4025121 samples\n",
            "Epoch 1/30\n",
            "WARNING:tensorflow:From /usr/local/lib/python3.6/dist-packages/keras/backend/tensorflow_backend.py:190: The name tf.get_default_session is deprecated. Please use tf.compat.v1.get_default_session instead.\n",
            "\n",
            "WARNING:tensorflow:From /usr/local/lib/python3.6/dist-packages/keras/backend/tensorflow_backend.py:197: The name tf.ConfigProto is deprecated. Please use tf.compat.v1.ConfigProto instead.\n",
            "\n",
            "WARNING:tensorflow:From /usr/local/lib/python3.6/dist-packages/keras/backend/tensorflow_backend.py:207: The name tf.global_variables is deprecated. Please use tf.compat.v1.global_variables instead.\n",
            "\n",
            "WARNING:tensorflow:From /usr/local/lib/python3.6/dist-packages/keras/backend/tensorflow_backend.py:216: The name tf.is_variable_initialized is deprecated. Please use tf.compat.v1.is_variable_initialized instead.\n",
            "\n",
            "WARNING:tensorflow:From /usr/local/lib/python3.6/dist-packages/keras/backend/tensorflow_backend.py:223: The name tf.variables_initializer is deprecated. Please use tf.compat.v1.variables_initializer instead.\n",
            "\n",
            "16100484/16100484 [==============================] - 230s 14us/step - loss: 54590.7747 - root_mean_squared_error: 9.1164 - val_loss: 4.5202 - val_root_mean_squared_error: 2.1251\n",
            "Epoch 2/30\n",
            "16100484/16100484 [==============================] - 238s 15us/step - loss: 6.1387 - root_mean_squared_error: 2.1623 - val_loss: 4.3839 - val_root_mean_squared_error: 2.0927\n",
            "Epoch 3/30\n",
            "16100484/16100484 [==============================] - 241s 15us/step - loss: 4.9936 - root_mean_squared_error: 2.1086 - val_loss: 3.9984 - val_root_mean_squared_error: 1.9983\n",
            "Epoch 4/30\n",
            "16100484/16100484 [==============================] - 240s 15us/step - loss: 5.7887 - root_mean_squared_error: 2.0353 - val_loss: 3.7409 - val_root_mean_squared_error: 1.9330\n",
            "Epoch 5/30\n",
            "16100484/16100484 [==============================] - 237s 15us/step - loss: 3.8421 - root_mean_squared_error: 1.9389 - val_loss: 3.6891 - val_root_mean_squared_error: 1.9196\n",
            "Epoch 6/30\n",
            "16100484/16100484 [==============================] - 237s 15us/step - loss: 3.7676 - root_mean_squared_error: 1.9278 - val_loss: 4.1437 - val_root_mean_squared_error: 2.0346\n",
            "Epoch 7/30\n",
            "16100484/16100484 [==============================] - 239s 15us/step - loss: 3.7145 - root_mean_squared_error: 1.9172 - val_loss: 3.7463 - val_root_mean_squared_error: 1.9344\n",
            "Epoch 8/30\n",
            "16100484/16100484 [==============================] - 240s 15us/step - loss: 3.7956 - root_mean_squared_error: 1.9240 - val_loss: 3.8163 - val_root_mean_squared_error: 1.9524\n",
            "Epoch 9/30\n",
            "16100484/16100484 [==============================] - 236s 15us/step - loss: 3.8792 - root_mean_squared_error: 1.9349 - val_loss: 3.5824 - val_root_mean_squared_error: 1.8914\n",
            "Epoch 10/30\n",
            "16100484/16100484 [==============================] - 236s 15us/step - loss: 3.7179 - root_mean_squared_error: 1.9078 - val_loss: 3.5473 - val_root_mean_squared_error: 1.8819\n",
            "Epoch 11/30\n",
            "16100484/16100484 [==============================] - 232s 14us/step - loss: 3.7641 - root_mean_squared_error: 1.9035 - val_loss: 3.3312 - val_root_mean_squared_error: 1.8239\n",
            "Epoch 12/30\n",
            "16100484/16100484 [==============================] - 233s 14us/step - loss: 5.2060 - root_mean_squared_error: 1.9852 - val_loss: 3.4094 - val_root_mean_squared_error: 1.8447\n",
            "Epoch 13/30\n",
            "16100484/16100484 [==============================] - 231s 14us/step - loss: 3.9485 - root_mean_squared_error: 1.9198 - val_loss: 3.3735 - val_root_mean_squared_error: 1.8355\n",
            "Epoch 14/30\n",
            "16100484/16100484 [==============================] - 233s 14us/step - loss: 3.8623 - root_mean_squared_error: 1.9031 - val_loss: 3.1923 - val_root_mean_squared_error: 1.7853\n",
            "Epoch 15/30\n",
            "16100484/16100484 [==============================] - 231s 14us/step - loss: 4.0033 - root_mean_squared_error: 1.9105 - val_loss: 3.3012 - val_root_mean_squared_error: 1.8154\n",
            "Epoch 16/30\n",
            "16100484/16100484 [==============================] - 233s 14us/step - loss: 3.8500 - root_mean_squared_error: 1.9071 - val_loss: 4.3883 - val_root_mean_squared_error: 2.0927\n",
            "Epoch 17/30\n",
            "16100484/16100484 [==============================] - 235s 15us/step - loss: 4.1640 - root_mean_squared_error: 1.9389 - val_loss: 3.2285 - val_root_mean_squared_error: 1.7953\n",
            "Epoch 18/30\n",
            "16100484/16100484 [==============================] - 238s 15us/step - loss: 5.1540 - root_mean_squared_error: 2.0238 - val_loss: 3.4155 - val_root_mean_squared_error: 1.8468\n",
            "Epoch 19/30\n",
            "16100484/16100484 [==============================] - 238s 15us/step - loss: 8.4701 - root_mean_squared_error: 2.1409 - val_loss: 3.5147 - val_root_mean_squared_error: 1.8733\n",
            "Epoch 00019: early stopping\n"
          ],
          "name": "stdout"
        },
        {
          "output_type": "execute_result",
          "data": {
            "text/plain": [
              "<keras.callbacks.History at 0x7f8d71368898>"
            ]
          },
          "metadata": {
            "tags": []
          },
          "execution_count": 34
        }
      ]
    },
    {
      "cell_type": "code",
      "metadata": {
        "id": "03H_mrKxb-Yz",
        "colab_type": "code",
        "colab": {}
      },
      "source": [
        "from keras.models import load_model\n",
        "model.save('my_model2.h5')  # creates a HDF5 file 'my_model.h5'"
      ],
      "execution_count": 0,
      "outputs": []
    },
    {
      "cell_type": "code",
      "metadata": {
        "id": "ZbQ5MTMDoOtJ",
        "colab_type": "code",
        "outputId": "a05fad01-f27b-4438-eda1-21b5642c1854",
        "colab": {
          "base_uri": "https://localhost:8080/",
          "height": 237
        }
      },
      "source": [
        "model.load_weights(\"my_model2.h5\")\n",
        "\n"
      ],
      "execution_count": 15,
      "outputs": [
        {
          "output_type": "stream",
          "text": [
            "WARNING:tensorflow:From /usr/local/lib/python3.6/dist-packages/keras/backend/tensorflow_backend.py:190: The name tf.get_default_session is deprecated. Please use tf.compat.v1.get_default_session instead.\n",
            "\n",
            "WARNING:tensorflow:From /usr/local/lib/python3.6/dist-packages/keras/backend/tensorflow_backend.py:197: The name tf.ConfigProto is deprecated. Please use tf.compat.v1.ConfigProto instead.\n",
            "\n",
            "WARNING:tensorflow:From /usr/local/lib/python3.6/dist-packages/keras/backend/tensorflow_backend.py:203: The name tf.Session is deprecated. Please use tf.compat.v1.Session instead.\n",
            "\n",
            "WARNING:tensorflow:From /usr/local/lib/python3.6/dist-packages/keras/backend/tensorflow_backend.py:207: The name tf.global_variables is deprecated. Please use tf.compat.v1.global_variables instead.\n",
            "\n",
            "WARNING:tensorflow:From /usr/local/lib/python3.6/dist-packages/keras/backend/tensorflow_backend.py:216: The name tf.is_variable_initialized is deprecated. Please use tf.compat.v1.is_variable_initialized instead.\n",
            "\n",
            "WARNING:tensorflow:From /usr/local/lib/python3.6/dist-packages/keras/backend/tensorflow_backend.py:223: The name tf.variables_initializer is deprecated. Please use tf.compat.v1.variables_initializer instead.\n",
            "\n"
          ],
          "name": "stdout"
        }
      ]
    },
    {
      "cell_type": "code",
      "metadata": {
        "id": "trerSqdvTC8b",
        "colab_type": "code",
        "colab": {
          "base_uri": "https://localhost:8080/",
          "height": 84
        },
        "outputId": "fcb02aef-8008-451a-b040-ebbb16090581"
      },
      "source": [
        "y_test = np.log1p(y_test)"
      ],
      "execution_count": 28,
      "outputs": [
        {
          "output_type": "stream",
          "text": [
            "/usr/local/lib/python3.6/dist-packages/ipykernel_launcher.py:1: RuntimeWarning: divide by zero encountered in log1p\n",
            "  \"\"\"Entry point for launching an IPython kernel.\n",
            "/usr/local/lib/python3.6/dist-packages/ipykernel_launcher.py:1: RuntimeWarning: invalid value encountered in log1p\n",
            "  \"\"\"Entry point for launching an IPython kernel.\n"
          ],
          "name": "stderr"
        }
      ]
    },
    {
      "cell_type": "code",
      "metadata": {
        "id": "37RFg-SDcDNl",
        "colab_type": "code",
        "colab": {
          "base_uri": "https://localhost:8080/",
          "height": 33
        },
        "outputId": "224b6b7a-86bf-488e-9afe-aa4621eeb910"
      },
      "source": [
        "y_predicted= model.predict(x_test ,batch_size=1024, verbose=1)\n"
      ],
      "execution_count": 47,
      "outputs": [
        {
          "output_type": "stream",
          "text": [
            "4025121/4025121 [==============================] - 7s 2us/step\n"
          ],
          "name": "stdout"
        }
      ]
    },
    {
      "cell_type": "code",
      "metadata": {
        "id": "g0uatL8UkV_B",
        "colab_type": "code",
        "colab": {
          "base_uri": "https://localhost:8080/",
          "height": 33
        },
        "outputId": "39b63272-6e8a-4b6f-c1bc-2645b6dbe42e"
      },
      "source": [
        "y_predicted[5555]"
      ],
      "execution_count": 81,
      "outputs": [
        {
          "output_type": "execute_result",
          "data": {
            "text/plain": [
              "array([3.6932733], dtype=float32)"
            ]
          },
          "metadata": {
            "tags": []
          },
          "execution_count": 81
        }
      ]
    },
    {
      "cell_type": "code",
      "metadata": {
        "id": "1BsxKrQWS5hv",
        "colab_type": "code",
        "colab": {}
      },
      "source": [
        "y_test = np.log1p(y_test)"
      ],
      "execution_count": 0,
      "outputs": []
    },
    {
      "cell_type": "code",
      "metadata": {
        "id": "z9hM0E8EeaIM",
        "colab_type": "code",
        "colab": {}
      },
      "source": [
        "from sklearn.metrics import mean_squared_error\n"
      ],
      "execution_count": 0,
      "outputs": []
    },
    {
      "cell_type": "code",
      "metadata": {
        "id": "cfh7u5OVd8TZ",
        "colab_type": "code",
        "outputId": "e39a5013-2c67-4297-817c-fee266decfe4",
        "colab": {
          "base_uri": "https://localhost:8080/",
          "height": 33
        }
      },
      "source": [
        "print(np.sqrt(mean_squared_error(y_test,y_predicted)))\n"
      ],
      "execution_count": 49,
      "outputs": [
        {
          "output_type": "stream",
          "text": [
            "1.874762639177629\n"
          ],
          "name": "stdout"
        }
      ]
    },
    {
      "cell_type": "markdown",
      "metadata": {
        "id": "SNkvtgA_eBvt",
        "colab_type": "text"
      },
      "source": [
        "# data preparation for testset"
      ]
    },
    {
      "cell_type": "code",
      "metadata": {
        "id": "VU9PaJ0Qexpu",
        "colab_type": "code",
        "outputId": "78002e0b-0aae-44e1-d00c-d6773b4a31e0",
        "colab": {
          "base_uri": "https://localhost:8080/",
          "height": 84
        }
      },
      "source": [
        "!ls"
      ],
      "execution_count": 4,
      "outputs": [
        {
          "output_type": "stream",
          "text": [
            "building_metadata.csv  sample_submission.csv.zip  weather_test.csv.zip\n",
            "model.h5\t       test.csv.zip\t\t  weather_train.csv.zip\n",
            "my_model2.h5\t       train.csv.zip\n",
            "my_model.h5\t       train_test.pickle\n"
          ],
          "name": "stdout"
        }
      ]
    },
    {
      "cell_type": "code",
      "metadata": {
        "id": "RlcDaSqhoZ4u",
        "colab_type": "code",
        "colab": {}
      },
      "source": [
        ""
      ],
      "execution_count": 0,
      "outputs": []
    },
    {
      "cell_type": "code",
      "metadata": {
        "id": "Sp2HgAoKeP_A",
        "colab_type": "code",
        "outputId": "1e60d9e9-8c52-4840-fcaf-e0f1c656b2b7",
        "colab": {
          "base_uri": "https://localhost:8080/",
          "height": 33
        }
      },
      "source": [
        "main_test = pd.read_csv ('test.csv.zip', compression='zip')\n",
        "main_test.shape"
      ],
      "execution_count": 50,
      "outputs": [
        {
          "output_type": "execute_result",
          "data": {
            "text/plain": [
              "(41697600, 4)"
            ]
          },
          "metadata": {
            "tags": []
          },
          "execution_count": 50
        }
      ]
    },
    {
      "cell_type": "code",
      "metadata": {
        "id": "fQZH7VbDeQF8",
        "colab_type": "code",
        "colab": {}
      },
      "source": [
        "buildings_test = pd.read_csv ('building_metadata.csv' )\n",
        "\n",
        "buildings_test = buildings_test.drop(columns=['year_built','floor_count'], axis=1)\n",
        "\n",
        "l=[\"Religious worship\",\"Utility\",\"Food sales and service\",\"Technology/science\",\"Services\",\"Retail\",\"Manufacturing/industrial\",\"Warehouse/storage\",\"Parking\",\"Healthcare\",\"Other\"]\n",
        "buildings_test.loc[buildings_test.primary_use.isin(l),'primary_use'] = 'others'\n",
        "\n",
        "buildings_test[\"primary_use\"] = buildings_test[\"primary_use\"].astype('category')\n",
        "buildings_test[\"primary_use\"] = buildings_test[\"primary_use\"].cat.codes\n"
      ],
      "execution_count": 0,
      "outputs": []
    },
    {
      "cell_type": "code",
      "metadata": {
        "id": "UrBmy-z5jqtC",
        "colab_type": "code",
        "colab": {}
      },
      "source": [
        "weather_test=pd.read_csv('weather_test.csv.zip', compression='zip')\n"
      ],
      "execution_count": 0,
      "outputs": []
    },
    {
      "cell_type": "code",
      "metadata": {
        "id": "9-sZmO8hjr8F",
        "colab_type": "code",
        "outputId": "9f9a9dc7-20f0-4064-f4f0-fd6c27ff6b93",
        "colab": {
          "base_uri": "https://localhost:8080/",
          "height": 33
        }
      },
      "source": [
        "weather_test.shape"
      ],
      "execution_count": 53,
      "outputs": [
        {
          "output_type": "execute_result",
          "data": {
            "text/plain": [
              "(277243, 9)"
            ]
          },
          "metadata": {
            "tags": []
          },
          "execution_count": 53
        }
      ]
    },
    {
      "cell_type": "code",
      "metadata": {
        "id": "pg8f2WUfeP88",
        "colab_type": "code",
        "colab": {}
      },
      "source": [
        "weather_test=pd.read_csv('weather_test.csv.zip', compression='zip')\n",
        "weather_test.shape\n",
        "weather_test = weather_test.drop(columns=['precip_depth_1_hr','wind_direction','sea_level_pressure','cloud_coverage'], axis=1)\n",
        "\n",
        "\n",
        "weather_test['wind_speed'].fillna(weather_test['wind_speed'].mean(), inplace=True)\n",
        "weather_test['air_temperature'].fillna(weather_test['air_temperature'].mean(), inplace=True)\n",
        "weather_test['dew_temperature'].fillna(weather_test['dew_temperature'].mean(), inplace=True)\n",
        "\n"
      ],
      "execution_count": 0,
      "outputs": []
    },
    {
      "cell_type": "code",
      "metadata": {
        "id": "jIghgpAbjCRR",
        "colab_type": "code",
        "colab": {}
      },
      "source": [
        "data_test =  pd.merge(main_test,buildings_test, on=['building_id'],sort=False)\n"
      ],
      "execution_count": 0,
      "outputs": []
    },
    {
      "cell_type": "code",
      "metadata": {
        "id": "rvUIQ5oepEp_",
        "colab_type": "code",
        "colab": {}
      },
      "source": [
        "data_test = data_test.merge(weather_test,left_on=['site_id','timestamp'],right_on=['site_id','timestamp'],how='left')"
      ],
      "execution_count": 0,
      "outputs": []
    },
    {
      "cell_type": "code",
      "metadata": {
        "id": "GjGKuW0BnhVP",
        "colab_type": "code",
        "outputId": "5073ae35-8eea-43a0-e6a2-d60100b07a43",
        "colab": {
          "base_uri": "https://localhost:8080/",
          "height": 33
        }
      },
      "source": [
        "data_test.shape"
      ],
      "execution_count": 57,
      "outputs": [
        {
          "output_type": "execute_result",
          "data": {
            "text/plain": [
              "(41697600, 10)"
            ]
          },
          "metadata": {
            "tags": []
          },
          "execution_count": 57
        }
      ]
    },
    {
      "cell_type": "code",
      "metadata": {
        "id": "aUpFo26xtAA3",
        "colab_type": "code",
        "colab": {}
      },
      "source": [
        "data_test[\"month\"] = data_test[\"timestamp\"].map(lambda row: row.split(\" \")[0].split(\"-\")[1])\n",
        "data_test[\"day\"] = data_test[\"timestamp\"].map(lambda row: row.split(\" \")[0].split(\"-\")[2])\n",
        "#data_test[\"time\"] = data_test[\"timestamp\"].map(lambda row: row.split(\" \")[1].split(\":\")[0])\n",
        "\n",
        "data_test['month'] = pd.to_numeric(data_test.month, errors='coerce')\n",
        "#data_test['time'] = pd.to_numeric(data_test.time, errors='coerce')\n",
        "data_test['day'] = pd.to_numeric(data_test.month, errors='coerce')"
      ],
      "execution_count": 0,
      "outputs": []
    },
    {
      "cell_type": "code",
      "metadata": {
        "id": "2LQvfn2yhqfv",
        "colab_type": "code",
        "outputId": "311a613d-7aa9-4a10-8b16-433e496ec5e8",
        "colab": {
          "base_uri": "https://localhost:8080/",
          "height": 196
        }
      },
      "source": [
        "data_test.head()"
      ],
      "execution_count": 59,
      "outputs": [
        {
          "output_type": "execute_result",
          "data": {
            "text/html": [
              "<div>\n",
              "<style scoped>\n",
              "    .dataframe tbody tr th:only-of-type {\n",
              "        vertical-align: middle;\n",
              "    }\n",
              "\n",
              "    .dataframe tbody tr th {\n",
              "        vertical-align: top;\n",
              "    }\n",
              "\n",
              "    .dataframe thead th {\n",
              "        text-align: right;\n",
              "    }\n",
              "</style>\n",
              "<table border=\"1\" class=\"dataframe\">\n",
              "  <thead>\n",
              "    <tr style=\"text-align: right;\">\n",
              "      <th></th>\n",
              "      <th>row_id</th>\n",
              "      <th>building_id</th>\n",
              "      <th>meter</th>\n",
              "      <th>timestamp</th>\n",
              "      <th>site_id</th>\n",
              "      <th>primary_use</th>\n",
              "      <th>square_feet</th>\n",
              "      <th>air_temperature</th>\n",
              "      <th>dew_temperature</th>\n",
              "      <th>wind_speed</th>\n",
              "      <th>month</th>\n",
              "      <th>day</th>\n",
              "    </tr>\n",
              "  </thead>\n",
              "  <tbody>\n",
              "    <tr>\n",
              "      <th>0</th>\n",
              "      <td>0</td>\n",
              "      <td>0</td>\n",
              "      <td>0</td>\n",
              "      <td>2017-01-01 00:00:00</td>\n",
              "      <td>0</td>\n",
              "      <td>0</td>\n",
              "      <td>7432</td>\n",
              "      <td>17.8</td>\n",
              "      <td>11.7</td>\n",
              "      <td>3.6</td>\n",
              "      <td>1</td>\n",
              "      <td>1</td>\n",
              "    </tr>\n",
              "    <tr>\n",
              "      <th>1</th>\n",
              "      <td>129</td>\n",
              "      <td>0</td>\n",
              "      <td>0</td>\n",
              "      <td>2017-01-01 01:00:00</td>\n",
              "      <td>0</td>\n",
              "      <td>0</td>\n",
              "      <td>7432</td>\n",
              "      <td>17.8</td>\n",
              "      <td>12.8</td>\n",
              "      <td>3.1</td>\n",
              "      <td>1</td>\n",
              "      <td>1</td>\n",
              "    </tr>\n",
              "    <tr>\n",
              "      <th>2</th>\n",
              "      <td>258</td>\n",
              "      <td>0</td>\n",
              "      <td>0</td>\n",
              "      <td>2017-01-01 02:00:00</td>\n",
              "      <td>0</td>\n",
              "      <td>0</td>\n",
              "      <td>7432</td>\n",
              "      <td>16.1</td>\n",
              "      <td>12.8</td>\n",
              "      <td>3.1</td>\n",
              "      <td>1</td>\n",
              "      <td>1</td>\n",
              "    </tr>\n",
              "    <tr>\n",
              "      <th>3</th>\n",
              "      <td>387</td>\n",
              "      <td>0</td>\n",
              "      <td>0</td>\n",
              "      <td>2017-01-01 03:00:00</td>\n",
              "      <td>0</td>\n",
              "      <td>0</td>\n",
              "      <td>7432</td>\n",
              "      <td>17.2</td>\n",
              "      <td>13.3</td>\n",
              "      <td>3.1</td>\n",
              "      <td>1</td>\n",
              "      <td>1</td>\n",
              "    </tr>\n",
              "    <tr>\n",
              "      <th>4</th>\n",
              "      <td>516</td>\n",
              "      <td>0</td>\n",
              "      <td>0</td>\n",
              "      <td>2017-01-01 04:00:00</td>\n",
              "      <td>0</td>\n",
              "      <td>0</td>\n",
              "      <td>7432</td>\n",
              "      <td>16.7</td>\n",
              "      <td>13.3</td>\n",
              "      <td>2.6</td>\n",
              "      <td>1</td>\n",
              "      <td>1</td>\n",
              "    </tr>\n",
              "  </tbody>\n",
              "</table>\n",
              "</div>"
            ],
            "text/plain": [
              "   row_id  building_id  meter  ... wind_speed  month  day\n",
              "0       0            0      0  ...        3.6      1    1\n",
              "1     129            0      0  ...        3.1      1    1\n",
              "2     258            0      0  ...        3.1      1    1\n",
              "3     387            0      0  ...        3.1      1    1\n",
              "4     516            0      0  ...        2.6      1    1\n",
              "\n",
              "[5 rows x 12 columns]"
            ]
          },
          "metadata": {
            "tags": []
          },
          "execution_count": 59
        }
      ]
    },
    {
      "cell_type": "code",
      "metadata": {
        "id": "Fkw-kBwOi8N9",
        "colab_type": "code",
        "colab": {}
      },
      "source": [
        "\n",
        "data_test = data_test.drop(columns=[ 'row_id','timestamp','site_id'], axis=1)\n",
        "\n"
      ],
      "execution_count": 0,
      "outputs": []
    },
    {
      "cell_type": "code",
      "metadata": {
        "id": "YweqgRrbrHeU",
        "colab_type": "code",
        "outputId": "4f3567d7-4ea6-4597-e943-48e5323e6b71",
        "colab": {
          "base_uri": "https://localhost:8080/",
          "height": 33
        }
      },
      "source": [
        "data_test.shape"
      ],
      "execution_count": 62,
      "outputs": [
        {
          "output_type": "execute_result",
          "data": {
            "text/plain": [
              "(41697600, 10)"
            ]
          },
          "metadata": {
            "tags": []
          },
          "execution_count": 62
        }
      ]
    },
    {
      "cell_type": "code",
      "metadata": {
        "id": "9mB7hYIBvsJ_",
        "colab_type": "code",
        "colab": {
          "base_uri": "https://localhost:8080/",
          "height": 33
        },
        "outputId": "158f5cd2-2b92-4d43-a129-c6ecf09dfc2e"
      },
      "source": [
        "predicted=model.predict(data_test, batch_size=1024, verbose=1)"
      ],
      "execution_count": 97,
      "outputs": [
        {
          "output_type": "stream",
          "text": [
            "41697600/41697600 [==============================] - 73s 2us/step\n"
          ],
          "name": "stdout"
        }
      ]
    },
    {
      "cell_type": "markdown",
      "metadata": {
        "id": "PRKL4hT3cYxZ",
        "colab_type": "text"
      },
      "source": [
        "# submit"
      ]
    },
    {
      "cell_type": "code",
      "metadata": {
        "id": "WcPGy6ivd8lK",
        "colab_type": "code",
        "outputId": "b08c2131-f9af-4e1d-e9ee-d234c85529e8",
        "colab": {
          "base_uri": "https://localhost:8080/",
          "height": 33
        }
      },
      "source": [
        "ids = data_test.row_id\n"
      ],
      "execution_count": 0,
      "outputs": [
        {
          "output_type": "execute_result",
          "data": {
            "text/plain": [
              "(41697600, 2)"
            ]
          },
          "metadata": {
            "tags": []
          },
          "execution_count": 32
        }
      ]
    },
    {
      "cell_type": "code",
      "metadata": {
        "id": "X1Tf5sPsxnAJ",
        "colab_type": "code",
        "outputId": "6a7c0f45-8a66-41da-d074-c7e8cb6caa91",
        "colab": {
          "base_uri": "https://localhost:8080/",
          "height": 33
        }
      },
      "source": [
        "len(predicted)"
      ],
      "execution_count": 69,
      "outputs": [
        {
          "output_type": "execute_result",
          "data": {
            "text/plain": [
              "41697600"
            ]
          },
          "metadata": {
            "tags": []
          },
          "execution_count": 69
        }
      ]
    },
    {
      "cell_type": "code",
      "metadata": {
        "id": "62KXVAvvkOmF",
        "colab_type": "code",
        "colab": {
          "base_uri": "https://localhost:8080/",
          "height": 33
        },
        "outputId": "3d92ba65-64e1-459e-affd-24daf486363b"
      },
      "source": [
        "predicted[5599995]"
      ],
      "execution_count": 104,
      "outputs": [
        {
          "output_type": "execute_result",
          "data": {
            "text/plain": [
              "array([83.33016], dtype=float32)"
            ]
          },
          "metadata": {
            "tags": []
          },
          "execution_count": 104
        }
      ]
    },
    {
      "cell_type": "code",
      "metadata": {
        "id": "EbB3hIXtcX15",
        "colab_type": "code",
        "colab": {}
      },
      "source": [
        "submit = pd.read_csv('sample_submission.csv.zip', compression='zip')\n",
        "\n",
        "# x_test = BTW_test[['meter', 'building_id', 'primary_use', 'Month', 'Day','air_temperature', 'wind_speed', 'precip_depth_1_hr', 'cloud_coverage',#\n",
        "#        'square_feet']]\n",
        "# x_test = x_test.values[:]\n",
        "# x_test = x_test.reshape((x_test.shape[0],1,x_test.shape[-1]))"
      ],
      "execution_count": 0,
      "outputs": []
    },
    {
      "cell_type": "code",
      "metadata": {
        "id": "gxs_QPr2j-OQ",
        "colab_type": "code",
        "colab": {
          "base_uri": "https://localhost:8080/",
          "height": 50
        },
        "outputId": "88d0d8c7-ef17-4317-f1df-e7d6da1beda3"
      },
      "source": [
        "predicted = np.expm1(predicted)"
      ],
      "execution_count": 103,
      "outputs": [
        {
          "output_type": "stream",
          "text": [
            "/usr/local/lib/python3.6/dist-packages/ipykernel_launcher.py:1: RuntimeWarning: overflow encountered in expm1\n",
            "  \"\"\"Entry point for launching an IPython kernel.\n"
          ],
          "name": "stderr"
        }
      ]
    },
    {
      "cell_type": "code",
      "metadata": {
        "id": "hMNUBFYhdijP",
        "colab_type": "code",
        "colab": {}
      },
      "source": [
        "submit['meter_reading'] = predicted"
      ],
      "execution_count": 0,
      "outputs": []
    },
    {
      "cell_type": "code",
      "metadata": {
        "id": "V6n2s8getMXD",
        "colab_type": "code",
        "colab": {
          "base_uri": "https://localhost:8080/",
          "height": 196
        },
        "outputId": "11ef47b4-3316-4236-8479-b469765bfc92"
      },
      "source": [
        "submit.head()"
      ],
      "execution_count": 105,
      "outputs": [
        {
          "output_type": "execute_result",
          "data": {
            "text/html": [
              "<div>\n",
              "<style scoped>\n",
              "    .dataframe tbody tr th:only-of-type {\n",
              "        vertical-align: middle;\n",
              "    }\n",
              "\n",
              "    .dataframe tbody tr th {\n",
              "        vertical-align: top;\n",
              "    }\n",
              "\n",
              "    .dataframe thead th {\n",
              "        text-align: right;\n",
              "    }\n",
              "</style>\n",
              "<table border=\"1\" class=\"dataframe\">\n",
              "  <thead>\n",
              "    <tr style=\"text-align: right;\">\n",
              "      <th></th>\n",
              "      <th>row_id</th>\n",
              "      <th>meter_reading</th>\n",
              "    </tr>\n",
              "  </thead>\n",
              "  <tbody>\n",
              "    <tr>\n",
              "      <th>0</th>\n",
              "      <td>0</td>\n",
              "      <td>83.330162</td>\n",
              "    </tr>\n",
              "    <tr>\n",
              "      <th>1</th>\n",
              "      <td>1</td>\n",
              "      <td>83.330162</td>\n",
              "    </tr>\n",
              "    <tr>\n",
              "      <th>2</th>\n",
              "      <td>2</td>\n",
              "      <td>83.330162</td>\n",
              "    </tr>\n",
              "    <tr>\n",
              "      <th>3</th>\n",
              "      <td>3</td>\n",
              "      <td>83.330162</td>\n",
              "    </tr>\n",
              "    <tr>\n",
              "      <th>4</th>\n",
              "      <td>4</td>\n",
              "      <td>83.330162</td>\n",
              "    </tr>\n",
              "  </tbody>\n",
              "</table>\n",
              "</div>"
            ],
            "text/plain": [
              "   row_id  meter_reading\n",
              "0       0      83.330162\n",
              "1       1      83.330162\n",
              "2       2      83.330162\n",
              "3       3      83.330162\n",
              "4       4      83.330162"
            ]
          },
          "metadata": {
            "tags": []
          },
          "execution_count": 105
        }
      ]
    },
    {
      "cell_type": "code",
      "metadata": {
        "id": "spXoCRvztaUX",
        "colab_type": "code",
        "colab": {
          "base_uri": "https://localhost:8080/",
          "height": 67
        },
        "outputId": "23a50db7-77ee-4d01-abac-23a3994ab269"
      },
      "source": [
        "submit.isnull().sum()"
      ],
      "execution_count": 109,
      "outputs": [
        {
          "output_type": "execute_result",
          "data": {
            "text/plain": [
              "row_id           0\n",
              "meter_reading    0\n",
              "dtype: int64"
            ]
          },
          "metadata": {
            "tags": []
          },
          "execution_count": 109
        }
      ]
    },
    {
      "cell_type": "code",
      "metadata": {
        "id": "JA8PtXpi2O-B",
        "colab_type": "code",
        "colab": {
          "base_uri": "https://localhost:8080/",
          "height": 33
        },
        "outputId": "1c91f85d-c6f2-4aae-ebdb-268e524d987b"
      },
      "source": [
        "print(\"a\")"
      ],
      "execution_count": 115,
      "outputs": [
        {
          "output_type": "stream",
          "text": [
            "a\n"
          ],
          "name": "stdout"
        }
      ]
    },
    {
      "cell_type": "code",
      "metadata": {
        "id": "V2Qu09xLnEpo",
        "colab_type": "code",
        "colab": {}
      },
      "source": [
        "export_csv = submit.to_csv('./my-submission.csv', index=False)\n"
      ],
      "execution_count": 0,
      "outputs": []
    },
    {
      "cell_type": "code",
      "metadata": {
        "id": "TAW9EEOEdcGj",
        "colab_type": "code",
        "colab": {
          "base_uri": "https://localhost:8080/",
          "height": 196
        },
        "outputId": "4854a9d6-35fe-4228-954d-3619f3531131"
      },
      "source": [
        "submit.head()"
      ],
      "execution_count": 73,
      "outputs": [
        {
          "output_type": "execute_result",
          "data": {
            "text/html": [
              "<div>\n",
              "<style scoped>\n",
              "    .dataframe tbody tr th:only-of-type {\n",
              "        vertical-align: middle;\n",
              "    }\n",
              "\n",
              "    .dataframe tbody tr th {\n",
              "        vertical-align: top;\n",
              "    }\n",
              "\n",
              "    .dataframe thead th {\n",
              "        text-align: right;\n",
              "    }\n",
              "</style>\n",
              "<table border=\"1\" class=\"dataframe\">\n",
              "  <thead>\n",
              "    <tr style=\"text-align: right;\">\n",
              "      <th></th>\n",
              "      <th>row_id</th>\n",
              "      <th>meter_reading</th>\n",
              "    </tr>\n",
              "  </thead>\n",
              "  <tbody>\n",
              "    <tr>\n",
              "      <th>0</th>\n",
              "      <td>0</td>\n",
              "      <td>83.330162</td>\n",
              "    </tr>\n",
              "    <tr>\n",
              "      <th>1</th>\n",
              "      <td>1</td>\n",
              "      <td>83.330162</td>\n",
              "    </tr>\n",
              "    <tr>\n",
              "      <th>2</th>\n",
              "      <td>2</td>\n",
              "      <td>83.330162</td>\n",
              "    </tr>\n",
              "    <tr>\n",
              "      <th>3</th>\n",
              "      <td>3</td>\n",
              "      <td>83.330162</td>\n",
              "    </tr>\n",
              "    <tr>\n",
              "      <th>4</th>\n",
              "      <td>4</td>\n",
              "      <td>83.330162</td>\n",
              "    </tr>\n",
              "  </tbody>\n",
              "</table>\n",
              "</div>"
            ],
            "text/plain": [
              "   row_id  meter_reading\n",
              "0       0      83.330162\n",
              "1       1      83.330162\n",
              "2       2      83.330162\n",
              "3       3      83.330162\n",
              "4       4      83.330162"
            ]
          },
          "metadata": {
            "tags": []
          },
          "execution_count": 73
        }
      ]
    },
    {
      "cell_type": "code",
      "metadata": {
        "id": "Mx-Y9L68tpE7",
        "colab_type": "code",
        "colab": {}
      },
      "source": [
        "83.330162"
      ],
      "execution_count": 0,
      "outputs": []
    },
    {
      "cell_type": "code",
      "metadata": {
        "id": "f5Kf5rQUkIKm",
        "colab_type": "code",
        "colab": {
          "base_uri": "https://localhost:8080/",
          "height": 67
        },
        "outputId": "2377f414-fd6d-4358-bed5-6173ae872724"
      },
      "source": [
        "!kaggle competitions submit ashrae-energy-prediction -f my-submission.csv -m 'Final submission'\n"
      ],
      "execution_count": 117,
      "outputs": [
        {
          "output_type": "stream",
          "text": [
            "Warning: Looks like you're using an outdated API Version, please consider updating (server 1.5.6 / client 1.5.4)\n",
            "100% 570M/570M [00:12<00:00, 48.7MB/s]\n",
            "Successfully submitted to ASHRAE - Great Energy Predictor III"
          ],
          "name": "stdout"
        }
      ]
    },
    {
      "cell_type": "code",
      "metadata": {
        "id": "V0smk7_2mzY6",
        "colab_type": "code",
        "colab": {}
      },
      "source": [
        ""
      ],
      "execution_count": 0,
      "outputs": []
    }
  ]
}